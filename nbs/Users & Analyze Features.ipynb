{
 "cells": [
  {
   "cell_type": "code",
   "execution_count": null,
   "id": "595bc924",
   "metadata": {},
   "outputs": [],
   "source": [
    "%cd ~/Dev/video-membership"
   ]
  },
  {
   "cell_type": "code",
   "execution_count": null,
   "id": "921f0230",
   "metadata": {},
   "outputs": [],
   "source": [
    "from app import db\n",
    "from app.users.models import User\n",
    "from cassandra.cqlengine.management import sync_table"
   ]
  },
  {
   "cell_type": "code",
   "execution_count": null,
   "id": "06db883b",
   "metadata": {},
   "outputs": [],
   "source": [
    "db.get_session()\n",
    "sync_table(User)"
   ]
  },
  {
   "cell_type": "code",
   "execution_count": null,
   "id": "1b23b392",
   "metadata": {},
   "outputs": [],
   "source": [
    "# User.create_user(\"hello@teamcfe.com\", password='abc123')"
   ]
  },
  {
   "cell_type": "code",
   "execution_count": null,
   "id": "6d853ff3",
   "metadata": {},
   "outputs": [],
   "source": [
    "user_a = User.create_user(\"abc@teamcfe.com\", password='abc123')"
   ]
  },
  {
   "cell_type": "code",
   "execution_count": null,
   "id": "708b8af8",
   "metadata": {},
   "outputs": [],
   "source": [
    "user_a.password"
   ]
  },
  {
   "cell_type": "code",
   "execution_count": null,
   "id": "03cc7447",
   "metadata": {},
   "outputs": [],
   "source": [
    "user_a.verify_password('abc123d')"
   ]
  },
  {
   "cell_type": "code",
   "execution_count": null,
   "id": "a328f007",
   "metadata": {},
   "outputs": [],
   "source": []
  }
 ],
 "metadata": {
  "kernelspec": {
   "display_name": "Python 3 (ipykernel)",
   "language": "python",
   "name": "python3"
  },
  "language_info": {
   "codemirror_mode": {
    "name": "ipython",
    "version": 3
   },
   "file_extension": ".py",
   "mimetype": "text/x-python",
   "name": "python",
   "nbconvert_exporter": "python",
   "pygments_lexer": "ipython3",
   "version": "3.9.7"
  }
 },
 "nbformat": 4,
 "nbformat_minor": 5
}
