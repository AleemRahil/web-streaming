{
 "cells": [
  {
   "cell_type": "code",
   "execution_count": null,
   "id": "595bc924",
   "metadata": {},
   "outputs": [],
   "source": [
    "%cd ~/Dev/video-membership"
   ]
  },
  {
   "cell_type": "code",
   "execution_count": null,
   "id": "921f0230",
   "metadata": {},
   "outputs": [],
   "source": [
    "from app import db\n",
    "from app.playlists.models import Playlist\n",
    "from app.users.models import User\n",
    "from app.videos.models import Video\n",
    "\n",
    "from cassandra.cqlengine.management import sync_table"
   ]
  },
  {
   "cell_type": "code",
   "execution_count": null,
   "id": "a71493e5",
   "metadata": {},
   "outputs": [],
   "source": [
    "from app.indexing.client import get_index, update_index\n",
    "from app.indexing.schemas import *"
   ]
  },
  {
   "cell_type": "code",
   "execution_count": null,
   "id": "06db883b",
   "metadata": {},
   "outputs": [],
   "source": [
    "db.get_session()\n",
    "sync_table(User)\n",
    "sync_table(Video)\n",
    "sync_table(Playlist)"
   ]
  },
  {
   "cell_type": "code",
   "execution_count": null,
   "id": "e0c6471b",
   "metadata": {},
   "outputs": [],
   "source": [
    "import uuid\n",
    "import json\n",
    "from pydantic import BaseModel, Field, validator, root_validator\n",
    "from typing import Optional"
   ]
  },
  {
   "cell_type": "code",
   "execution_count": null,
   "id": "911ed0dd",
   "metadata": {},
   "outputs": [],
   "source": [
    "video_obj = dict(Video.objects.first())\n",
    "video_obj"
   ]
  },
  {
   "cell_type": "code",
   "execution_count": null,
   "id": "87ad607b",
   "metadata": {},
   "outputs": [],
   "source": [
    "class VideoIndexSchema2(BaseModel):\n",
    "    objectID: str = Field(alias='host_id')\n",
    "    objectType: str = \"Video\"\n",
    "    title: Optional[str]\n",
    "    path: str = Field(alias='host_id')\n",
    "        \n",
    "    @validator(\"path\")\n",
    "    def set_path(cls, v, values, **kwargs):\n",
    "        host_id = v\n",
    "        return f\"/videos/{host_id}\""
   ]
  },
  {
   "cell_type": "code",
   "execution_count": null,
   "id": "c11a25d5",
   "metadata": {},
   "outputs": [],
   "source": [
    "VideoIndexSchema(**video_obj).dict()"
   ]
  },
  {
   "cell_type": "code",
   "execution_count": null,
   "id": "a43b02e7",
   "metadata": {},
   "outputs": [],
   "source": [
    "playlist_obj = dict(Playlist.objects.first())\n",
    "playlist_obj"
   ]
  },
  {
   "cell_type": "code",
   "execution_count": null,
   "id": "5ed23da0",
   "metadata": {},
   "outputs": [],
   "source": [
    "class PlaylistIndexSchema2(BaseModel):\n",
    "    objectID: uuid.UUID = Field(alias='db_id')\n",
    "    objectType: str = \"Playlist\"\n",
    "    title: Optional[str]\n",
    "    path: str = Field(default='/')\n",
    "    \n",
    "    @root_validator\n",
    "    def set_defaults(cls, values):\n",
    "        objectID = values.get('objectID')\n",
    "        values['objectID'] = str(objectID)\n",
    "        values['path'] = f\"/playlists/{objectID}\"\n",
    "        return values"
   ]
  },
  {
   "cell_type": "code",
   "execution_count": null,
   "id": "183bf701",
   "metadata": {},
   "outputs": [],
   "source": [
    "# json.loads(PlaylistIndexSchema(**playlist_obj).json())"
   ]
  },
  {
   "cell_type": "code",
   "execution_count": null,
   "id": "dd2e8bc9",
   "metadata": {},
   "outputs": [],
   "source": [
    "PlaylistIndexSchema(**playlist_obj).dict()"
   ]
  },
  {
   "cell_type": "code",
   "execution_count": null,
   "id": "2fded87e",
   "metadata": {},
   "outputs": [],
   "source": [
    "video_q = [dict(x) for x in Video.objects.all()]\n",
    "videos_dataset = [VideoIndexSchema(**x).dict() for x in video_q]\n",
    "videos_dataset"
   ]
  },
  {
   "cell_type": "code",
   "execution_count": null,
   "id": "2bbf02d6",
   "metadata": {},
   "outputs": [],
   "source": [
    "playlist_q = [dict(x) for x in Playlist.objects.all()]\n",
    "playlists_dataset = [PlaylistIndexSchema(**x).dict() for x in playlist_q]\n",
    "playlists_dataset"
   ]
  },
  {
   "cell_type": "code",
   "execution_count": null,
   "id": "8e3b1cd4",
   "metadata": {},
   "outputs": [],
   "source": [
    "dataset = playlists_dataset + videos_dataset"
   ]
  },
  {
   "cell_type": "code",
   "execution_count": null,
   "id": "fb2aa5ba",
   "metadata": {},
   "outputs": [],
   "source": [
    "dataset"
   ]
  },
  {
   "cell_type": "code",
   "execution_count": null,
   "id": "f80e21de",
   "metadata": {},
   "outputs": [],
   "source": [
    "index = get_index()"
   ]
  },
  {
   "cell_type": "code",
   "execution_count": null,
   "id": "41309cdd",
   "metadata": {},
   "outputs": [],
   "source": [
    "# dir(index)"
   ]
  },
  {
   "cell_type": "code",
   "execution_count": null,
   "id": "a437673d",
   "metadata": {},
   "outputs": [],
   "source": [
    "# idx_response = index.save_objects(dataset).wait()\n",
    "# len(idx_response[0]['objectIDs'])\n",
    "\n",
    "updated_count = update_index()\n",
    "updated_count"
   ]
  },
  {
   "cell_type": "code",
   "execution_count": null,
   "id": "d7ea0c93",
   "metadata": {},
   "outputs": [],
   "source": [
    "index.search(\"OpenCV Is Awesome!\")"
   ]
  },
  {
   "cell_type": "code",
   "execution_count": null,
   "id": "235b3819",
   "metadata": {},
   "outputs": [],
   "source": []
  }
 ],
 "metadata": {
  "kernelspec": {
   "display_name": "Python 3 (ipykernel)",
   "language": "python",
   "name": "python3"
  },
  "language_info": {
   "codemirror_mode": {
    "name": "ipython",
    "version": 3
   },
   "file_extension": ".py",
   "mimetype": "text/x-python",
   "name": "python",
   "nbconvert_exporter": "python",
   "pygments_lexer": "ipython3",
   "version": "3.9.7"
  }
 },
 "nbformat": 4,
 "nbformat_minor": 5
}
