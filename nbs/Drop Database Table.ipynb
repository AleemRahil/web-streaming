{
 "cells": [
  {
   "cell_type": "code",
   "execution_count": null,
   "id": "595bc924",
   "metadata": {},
   "outputs": [],
   "source": [
    "%cd ~/Dev/video-membership"
   ]
  },
  {
   "cell_type": "code",
   "execution_count": null,
   "id": "921f0230",
   "metadata": {},
   "outputs": [],
   "source": [
    "from app import db, config\n",
    "from app.watch_events.models import WatchEvent\n",
    "# from app.users.models import User"
   ]
  },
  {
   "cell_type": "code",
   "execution_count": null,
   "id": "06db883b",
   "metadata": {},
   "outputs": [],
   "source": [
    "session = db.get_session()"
   ]
  },
  {
   "cell_type": "code",
   "execution_count": null,
   "id": "a89ff5f1",
   "metadata": {},
   "outputs": [],
   "source": [
    "settings = config.get_settings()"
   ]
  },
  {
   "cell_type": "code",
   "execution_count": null,
   "id": "7bb766ac",
   "metadata": {},
   "outputs": [],
   "source": [
    "keyspace = settings.keyspace"
   ]
  },
  {
   "cell_type": "code",
   "execution_count": null,
   "id": "ba04715a",
   "metadata": {},
   "outputs": [],
   "source": [
    "q = WatchEvent.objects.all()\n",
    "query_str = str(q._select_query())\n",
    "query_str\n",
    "q_r = session.execute(query_str)\n",
    "for item in q_r.all():\n",
    "    print(item)"
   ]
  },
  {
   "cell_type": "code",
   "execution_count": null,
   "id": "dd687102",
   "metadata": {},
   "outputs": [],
   "source": [
    "# model_name = \"WatchEventAbc\" -> watch_event_abc\n",
    "model_name = \"watch_event\""
   ]
  },
  {
   "cell_type": "code",
   "execution_count": null,
   "id": "1a4dcef1",
   "metadata": {},
   "outputs": [],
   "source": [
    "cmd = f\"DROP TABLE IF EXISTS {keyspace}.{model_name}\"\n",
    "cmd"
   ]
  },
  {
   "cell_type": "code",
   "execution_count": null,
   "id": "6d58503d",
   "metadata": {},
   "outputs": [],
   "source": [
    "r = session.execute(cmd)"
   ]
  },
  {
   "cell_type": "code",
   "execution_count": null,
   "id": "7cebeed7",
   "metadata": {},
   "outputs": [],
   "source": [
    "dir(r)"
   ]
  },
  {
   "cell_type": "code",
   "execution_count": null,
   "id": "2ca575c4",
   "metadata": {},
   "outputs": [],
   "source": [
    "for item in r.all():\n",
    "    print(item)"
   ]
  },
  {
   "cell_type": "code",
   "execution_count": null,
   "id": "80031303",
   "metadata": {},
   "outputs": [],
   "source": []
  }
 ],
 "metadata": {
  "kernelspec": {
   "display_name": "Python 3 (ipykernel)",
   "language": "python",
   "name": "python3"
  },
  "language_info": {
   "codemirror_mode": {
    "name": "ipython",
    "version": 3
   },
   "file_extension": ".py",
   "mimetype": "text/x-python",
   "name": "python",
   "nbconvert_exporter": "python",
   "pygments_lexer": "ipython3",
   "version": "3.9.7"
  }
 },
 "nbformat": 4,
 "nbformat_minor": 5
}
