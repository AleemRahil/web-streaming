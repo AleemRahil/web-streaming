{
 "cells": [
  {
   "cell_type": "code",
   "execution_count": null,
   "id": "595bc924",
   "metadata": {},
   "outputs": [],
   "source": [
    "%cd ~/Dev/video-membership"
   ]
  },
  {
   "cell_type": "code",
   "execution_count": null,
   "id": "921f0230",
   "metadata": {},
   "outputs": [],
   "source": [
    "from app import db\n",
    "from app.users.models import User\n",
    "from cassandra.cqlengine.management import sync_table"
   ]
  },
  {
   "cell_type": "code",
   "execution_count": null,
   "id": "06db883b",
   "metadata": {},
   "outputs": [],
   "source": [
    "db.get_session()\n",
    "sync_table(User)"
   ]
  },
  {
   "cell_type": "code",
   "execution_count": null,
   "id": "95f39476",
   "metadata": {},
   "outputs": [],
   "source": [
    "import datetime\n",
    "import secrets\n",
    "from jose import jwt, ExpiredSignatureError"
   ]
  },
  {
   "cell_type": "code",
   "execution_count": null,
   "id": "00297e00",
   "metadata": {},
   "outputs": [],
   "source": [
    "secret_key = secrets.token_urlsafe(50)\n",
    "secret_key"
   ]
  },
  {
   "cell_type": "code",
   "execution_count": null,
   "id": "0dc0be7a",
   "metadata": {},
   "outputs": [],
   "source": [
    "algo = 'HS256'"
   ]
  },
  {
   "cell_type": "code",
   "execution_count": null,
   "id": "e9f79721",
   "metadata": {},
   "outputs": [],
   "source": [
    "expires_after = 10\n",
    "\n",
    "raw_data = {\n",
    "    \"user_id\": \"abc123\",\n",
    "    \"email\": \"do not do this\",\n",
    "    \"exp\": datetime.datetime.utcnow() + datetime.timedelta(seconds=expires_after)\n",
    "}"
   ]
  },
  {
   "cell_type": "code",
   "execution_count": null,
   "id": "880ed837",
   "metadata": {},
   "outputs": [],
   "source": [
    "token = jwt.encode(raw_data, secret_key, algorithm=algo)\n",
    "token"
   ]
  },
  {
   "cell_type": "code",
   "execution_count": null,
   "id": "35991cea",
   "metadata": {},
   "outputs": [],
   "source": [
    "try:\n",
    "    jwt.decode(token,secret_key, algorithms=[algo])\n",
    "except ExpiredSignatureError as e:\n",
    "    print(e)"
   ]
  },
  {
   "cell_type": "code",
   "execution_count": null,
   "id": "f7251ed7",
   "metadata": {},
   "outputs": [],
   "source": [
    "def login(user_id, expires=5):\n",
    "    raw_data = {\n",
    "        \"user_id\": f\"{user_id}\",\n",
    "        \"role\": \"admin\",\n",
    "        \"exp\": datetime.datetime.utcnow() + datetime.timedelta(seconds=expires_after)\n",
    "    }\n",
    "    return jwt.encode(raw_data, secret_key, algorithm=algo)"
   ]
  },
  {
   "cell_type": "code",
   "execution_count": null,
   "id": "423fa11c",
   "metadata": {},
   "outputs": [],
   "source": [
    "j = User.objects.all().first()\n",
    "\n",
    "j.user_id"
   ]
  },
  {
   "cell_type": "code",
   "execution_count": null,
   "id": "be43984a",
   "metadata": {},
   "outputs": [],
   "source": [
    "token = login(j.user_id, expires=5)\n",
    "token"
   ]
  },
  {
   "cell_type": "code",
   "execution_count": null,
   "id": "bd27a436",
   "metadata": {},
   "outputs": [],
   "source": [
    "def verify_user(token):\n",
    "    data = None\n",
    "    try:\n",
    "        data = jwt.decode(token, secret_key, algorithms=[algo])\n",
    "    except ExpiredSignatureError as e:\n",
    "        print(e)\n",
    "    except:\n",
    "        pass\n",
    "    return data"
   ]
  },
  {
   "cell_type": "code",
   "execution_count": null,
   "id": "956faf39",
   "metadata": {},
   "outputs": [],
   "source": [
    "data = verify_user(token)\n",
    "print(data)"
   ]
  },
  {
   "cell_type": "code",
   "execution_count": null,
   "id": "c9765629",
   "metadata": {},
   "outputs": [],
   "source": []
  }
 ],
 "metadata": {
  "kernelspec": {
   "display_name": "Python 3 (ipykernel)",
   "language": "python",
   "name": "python3"
  },
  "language_info": {
   "codemirror_mode": {
    "name": "ipython",
    "version": 3
   },
   "file_extension": ".py",
   "mimetype": "text/x-python",
   "name": "python",
   "nbconvert_exporter": "python",
   "pygments_lexer": "ipython3",
   "version": "3.9.7"
  }
 },
 "nbformat": 4,
 "nbformat_minor": 5
}
