{
 "cells": [
  {
   "cell_type": "code",
   "execution_count": null,
   "id": "595bc924",
   "metadata": {},
   "outputs": [],
   "source": [
    "%cd ~/Dev/video-membership"
   ]
  },
  {
   "cell_type": "code",
   "execution_count": null,
   "id": "921f0230",
   "metadata": {},
   "outputs": [],
   "source": [
    "from app import db\n",
    "from app.playlists.models import Playlist\n",
    "from app.users.models import User\n",
    "from app.videos.models import Video\n",
    "\n",
    "from cassandra.cqlengine.management import sync_table"
   ]
  },
  {
   "cell_type": "code",
   "execution_count": null,
   "id": "06db883b",
   "metadata": {},
   "outputs": [],
   "source": [
    "db.get_session()\n",
    "sync_table(User)\n",
    "sync_table(Video)\n",
    "sync_table(Playlist)"
   ]
  },
  {
   "cell_type": "code",
   "execution_count": null,
   "id": "a6353b45",
   "metadata": {},
   "outputs": [],
   "source": [
    "url = 'https://www.youtube.com/watch?v=nNpvWBuTfrc'"
   ]
  },
  {
   "cell_type": "code",
   "execution_count": null,
   "id": "76c2905b",
   "metadata": {},
   "outputs": [],
   "source": [
    "abc = User.objects.get(email='abc@teamcfe.com')\n",
    "abc"
   ]
  },
  {
   "cell_type": "code",
   "execution_count": null,
   "id": "e02905cf",
   "metadata": {},
   "outputs": [],
   "source": [
    "obj = Video.add_video(url, user_id=abc.user_id)"
   ]
  },
  {
   "cell_type": "code",
   "execution_count": null,
   "id": "d19b37d5",
   "metadata": {},
   "outputs": [],
   "source": [
    "obj"
   ]
  },
  {
   "cell_type": "code",
   "execution_count": null,
   "id": "305b7b5d",
   "metadata": {},
   "outputs": [],
   "source": [
    "url = 'https://www.youtube.com/watch?v=9ix7TUGVYIo'\n",
    "obj = Video.add_video(url, user_id=abc.user_id)"
   ]
  },
  {
   "cell_type": "code",
   "execution_count": null,
   "id": "b2ba5c67",
   "metadata": {},
   "outputs": [],
   "source": [
    "obj.host_id"
   ]
  },
  {
   "cell_type": "code",
   "execution_count": null,
   "id": "921cdd06",
   "metadata": {},
   "outputs": [],
   "source": [
    "url = 'https://www.youtube.com/watch?v=9C85o8jIgUU'\n",
    "obj_2, created = Video.get_or_create(url, user_id=abc.user_id)\n",
    "obj_2, created"
   ]
  },
  {
   "cell_type": "code",
   "execution_count": null,
   "id": "8991d453",
   "metadata": {},
   "outputs": [],
   "source": [
    "playlist_obj = Playlist.objects.all().first()\n",
    "playlist_obj.add_host_ids(host_ids=[obj_2.host_id], replace_all=True)\n",
    "playlist_obj.save()"
   ]
  },
  {
   "cell_type": "code",
   "execution_count": null,
   "id": "3eea17ce",
   "metadata": {},
   "outputs": [],
   "source": []
  }
 ],
 "metadata": {
  "kernelspec": {
   "display_name": "Python 3 (ipykernel)",
   "language": "python",
   "name": "python3"
  },
  "language_info": {
   "codemirror_mode": {
    "name": "ipython",
    "version": 3
   },
   "file_extension": ".py",
   "mimetype": "text/x-python",
   "name": "python",
   "nbconvert_exporter": "python",
   "pygments_lexer": "ipython3",
   "version": "3.9.7"
  }
 },
 "nbformat": 4,
 "nbformat_minor": 5
}
