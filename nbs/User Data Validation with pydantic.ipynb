{
 "cells": [
  {
   "cell_type": "code",
   "execution_count": null,
   "id": "595bc924",
   "metadata": {},
   "outputs": [],
   "source": [
    "%cd ~/Dev/video-membership"
   ]
  },
  {
   "cell_type": "code",
   "execution_count": null,
   "id": "921f0230",
   "metadata": {},
   "outputs": [],
   "source": [
    "from app import db\n",
    "from app.users.models import User\n",
    "from cassandra.cqlengine.management import sync_table"
   ]
  },
  {
   "cell_type": "code",
   "execution_count": null,
   "id": "06db883b",
   "metadata": {},
   "outputs": [],
   "source": [
    "db.get_session()\n",
    "sync_table(User)"
   ]
  },
  {
   "cell_type": "code",
   "execution_count": null,
   "id": "8815b2bb",
   "metadata": {},
   "outputs": [],
   "source": [
    "post_data = {\n",
    "    \"email\": \"abc@abc.com\",\n",
    "    \"password\": \"abc123\"\n",
    "}"
   ]
  },
  {
   "cell_type": "code",
   "execution_count": null,
   "id": "f056d182",
   "metadata": {},
   "outputs": [],
   "source": [
    "from pydantic import BaseModel, EmailStr, SecretStr, validator"
   ]
  },
  {
   "cell_type": "code",
   "execution_count": null,
   "id": "1c2f15bd",
   "metadata": {},
   "outputs": [],
   "source": [
    "class UserLoginSchema(BaseModel):\n",
    "    email: EmailStr\n",
    "    password: SecretStr"
   ]
  },
  {
   "cell_type": "code",
   "execution_count": null,
   "id": "c3ad6c12",
   "metadata": {},
   "outputs": [],
   "source": [
    "UserLoginSchema(**post_data) # email=\"abc@abc\", password=\"abc123\""
   ]
  },
  {
   "cell_type": "code",
   "execution_count": null,
   "id": "fecf7dc1",
   "metadata": {},
   "outputs": [],
   "source": [
    "class UserSignupSchema(BaseModel):\n",
    "    email: EmailStr\n",
    "    password: SecretStr\n",
    "    password_confirm: SecretStr\n",
    "        \n",
    "    \n",
    "    @validator(\"email\")\n",
    "    def email_available(cls, v, values, **kwargs):\n",
    "        q = User.objects.filter(email=v)\n",
    "        if q.count() != 0:\n",
    "            raise ValueError(\"Email is not available\")\n",
    "        return v\n",
    "        \n",
    "    @validator(\"password_confirm\")\n",
    "    def passwords_match(cls, v, values, **kwargs):\n",
    "        password = values.get('password')\n",
    "        password_confirm = v\n",
    "        if password != password_confirm:\n",
    "            raise ValueError(\"Passwords do not match\")\n",
    "        return v"
   ]
  },
  {
   "cell_type": "code",
   "execution_count": null,
   "id": "cbd02455",
   "metadata": {},
   "outputs": [],
   "source": [
    "data = UserSignupSchema(email='abc@teamcfe.com', password='abc123', password_confirm='abc123')"
   ]
  },
  {
   "cell_type": "code",
   "execution_count": null,
   "id": "8ddd1d3a",
   "metadata": {},
   "outputs": [],
   "source": [
    "data.dict()['password'].get_secret_value()"
   ]
  },
  {
   "cell_type": "code",
   "execution_count": null,
   "id": "0dc59804",
   "metadata": {},
   "outputs": [],
   "source": []
  }
 ],
 "metadata": {
  "kernelspec": {
   "display_name": "Python 3 (ipykernel)",
   "language": "python",
   "name": "python3"
  },
  "language_info": {
   "codemirror_mode": {
    "name": "ipython",
    "version": 3
   },
   "file_extension": ".py",
   "mimetype": "text/x-python",
   "name": "python",
   "nbconvert_exporter": "python",
   "pygments_lexer": "ipython3",
   "version": "3.9.7"
  }
 },
 "nbformat": 4,
 "nbformat_minor": 5
}
