{
 "cells": [
  {
   "cell_type": "code",
   "execution_count": 1,
   "id": "595bc924",
   "metadata": {},
   "outputs": [
    {
     "name": "stdout",
     "output_type": "stream",
     "text": [
      "/Users/cfe/Dev/video-membership\n"
     ]
    }
   ],
   "source": [
    "%cd ~/Dev/video-membership"
   ]
  },
  {
   "cell_type": "code",
   "execution_count": 2,
   "id": "921f0230",
   "metadata": {},
   "outputs": [],
   "source": [
    "import datetime\n",
    "from app import db, config\n",
    "from app.playlists.models import Playlist\n",
    "from app.videos.models import Video\n",
    "from cassandra.cqlengine.management import sync_table"
   ]
  },
  {
   "cell_type": "code",
   "execution_count": null,
   "id": "06db883b",
   "metadata": {},
   "outputs": [],
   "source": [
    "session = db.get_session()\n",
    "settings = config.get_settings()\n",
    "allow_table_drop = False"
   ]
  },
  {
   "cell_type": "code",
   "execution_count": null,
   "id": "c512f59a",
   "metadata": {},
   "outputs": [],
   "source": [
    "if allow_table_drop:\n",
    "    session.execute(f\"DROP TABLE IF EXISTS {settings.keyspace}.playlist\")"
   ]
  },
  {
   "cell_type": "code",
   "execution_count": null,
   "id": "34bdad09",
   "metadata": {},
   "outputs": [],
   "source": [
    "sync_table(Playlist)\n",
    "sync_table(Video)"
   ]
  },
  {
   "cell_type": "code",
   "execution_count": null,
   "id": "ffabacd8",
   "metadata": {},
   "outputs": [],
   "source": [
    "obj = Playlist.objects.create(title='hello world')\n",
    "obj"
   ]
  },
  {
   "cell_type": "code",
   "execution_count": null,
   "id": "4fd7a024",
   "metadata": {},
   "outputs": [],
   "source": [
    "# obj.updated = datetime.datetime.utcnow()\n",
    "# obj.save()"
   ]
  },
  {
   "cell_type": "code",
   "execution_count": null,
   "id": "a0a8519c",
   "metadata": {},
   "outputs": [],
   "source": [
    "obj.host_ids = ['some new list']\n",
    "obj.save()\n",
    "obj"
   ]
  },
  {
   "cell_type": "code",
   "execution_count": null,
   "id": "44c9d8e8",
   "metadata": {},
   "outputs": [],
   "source": [
    "list(Playlist.objects.all())"
   ]
  },
  {
   "cell_type": "code",
   "execution_count": null,
   "id": "7b73f396",
   "metadata": {},
   "outputs": [],
   "source": [
    "host_ids = list(Video.objects.all().limit(5).values_list(\"host_id\", flat=True))\n",
    "host_ids"
   ]
  },
  {
   "cell_type": "code",
   "execution_count": null,
   "id": "ecec3c5e",
   "metadata": {},
   "outputs": [],
   "source": [
    "obj.add_host_ids(host_ids=host_ids[:3], replace_all=True)"
   ]
  },
  {
   "cell_type": "code",
   "execution_count": null,
   "id": "a49577c8",
   "metadata": {},
   "outputs": [],
   "source": [
    "obj.host_ids"
   ]
  },
  {
   "cell_type": "code",
   "execution_count": null,
   "id": "674cacfc",
   "metadata": {},
   "outputs": [],
   "source": [
    "video_q = list(Video.objects.filter(host_id__in=obj.host_ids))\n",
    "video_q"
   ]
  },
  {
   "cell_type": "code",
   "execution_count": null,
   "id": "a9281d19",
   "metadata": {},
   "outputs": [],
   "source": [
    "obj.get_videos()"
   ]
  }
 ],
 "metadata": {
  "kernelspec": {
   "display_name": "Python 3 (ipykernel)",
   "language": "python",
   "name": "python3"
  },
  "language_info": {
   "codemirror_mode": {
    "name": "ipython",
    "version": 3
   },
   "file_extension": ".py",
   "mimetype": "text/x-python",
   "name": "python",
   "nbconvert_exporter": "python",
   "pygments_lexer": "ipython3",
   "version": "3.9.7"
  }
 },
 "nbformat": 4,
 "nbformat_minor": 5
}
